{
 "cells": [
  {
   "cell_type": "code",
   "execution_count": 2,
   "metadata": {},
   "outputs": [],
   "source": [
    "import pandas as pd"
   ]
  },
  {
   "cell_type": "code",
   "execution_count": 3,
   "metadata": {},
   "outputs": [
    {
     "data": {
      "text/html": [
       "<div>\n",
       "<style scoped>\n",
       "    .dataframe tbody tr th:only-of-type {\n",
       "        vertical-align: middle;\n",
       "    }\n",
       "\n",
       "    .dataframe tbody tr th {\n",
       "        vertical-align: top;\n",
       "    }\n",
       "\n",
       "    .dataframe thead th {\n",
       "        text-align: right;\n",
       "    }\n",
       "</style>\n",
       "<table border=\"1\" class=\"dataframe\">\n",
       "  <thead>\n",
       "    <tr style=\"text-align: right;\">\n",
       "      <th></th>\n",
       "      <th>Conditions_ID</th>\n",
       "      <th>Pedestrian_Crossing-Human_Control</th>\n",
       "      <th>Pedestrian_Crossing-Physical_Facilities</th>\n",
       "      <th>Light_Conditions</th>\n",
       "      <th>Weather_Conditions</th>\n",
       "      <th>Road_Surface_Conditions</th>\n",
       "      <th>Special_Conditions_at_Site</th>\n",
       "      <th>Carriageway_Hazards</th>\n",
       "      <th>Urban_or_Rural_Area</th>\n",
       "    </tr>\n",
       "  </thead>\n",
       "  <tbody>\n",
       "    <tr>\n",
       "      <th>0</th>\n",
       "      <td>NaN</td>\n",
       "      <td>None within 50 metres</td>\n",
       "      <td>Zebra crossing</td>\n",
       "      <td>Daylight: Street light present</td>\n",
       "      <td>Raining without high winds</td>\n",
       "      <td>Wet/Damp</td>\n",
       "      <td>NaN</td>\n",
       "      <td>NaN</td>\n",
       "      <td>1</td>\n",
       "    </tr>\n",
       "    <tr>\n",
       "      <th>1</th>\n",
       "      <td>NaN</td>\n",
       "      <td>None within 50 metres</td>\n",
       "      <td>Pedestrian phase at traffic signal junction</td>\n",
       "      <td>Darkness: Street lights present and lit</td>\n",
       "      <td>Fine without high winds</td>\n",
       "      <td>Dry</td>\n",
       "      <td>NaN</td>\n",
       "      <td>NaN</td>\n",
       "      <td>1</td>\n",
       "    </tr>\n",
       "    <tr>\n",
       "      <th>2</th>\n",
       "      <td>NaN</td>\n",
       "      <td>None within 50 metres</td>\n",
       "      <td>No physical crossing within 50 meters</td>\n",
       "      <td>Darkness: Street lights present and lit</td>\n",
       "      <td>Fine without high winds</td>\n",
       "      <td>Dry</td>\n",
       "      <td>NaN</td>\n",
       "      <td>NaN</td>\n",
       "      <td>1</td>\n",
       "    </tr>\n",
       "    <tr>\n",
       "      <th>3</th>\n",
       "      <td>NaN</td>\n",
       "      <td>None within 50 metres</td>\n",
       "      <td>No physical crossing within 50 meters</td>\n",
       "      <td>Daylight: Street light present</td>\n",
       "      <td>Fine without high winds</td>\n",
       "      <td>Dry</td>\n",
       "      <td>NaN</td>\n",
       "      <td>NaN</td>\n",
       "      <td>1</td>\n",
       "    </tr>\n",
       "    <tr>\n",
       "      <th>4</th>\n",
       "      <td>NaN</td>\n",
       "      <td>None within 50 metres</td>\n",
       "      <td>No physical crossing within 50 meters</td>\n",
       "      <td>Darkness: Street lighting unknown</td>\n",
       "      <td>Fine without high winds</td>\n",
       "      <td>Wet/Damp</td>\n",
       "      <td>NaN</td>\n",
       "      <td>NaN</td>\n",
       "      <td>1</td>\n",
       "    </tr>\n",
       "    <tr>\n",
       "      <th>...</th>\n",
       "      <td>...</td>\n",
       "      <td>...</td>\n",
       "      <td>...</td>\n",
       "      <td>...</td>\n",
       "      <td>...</td>\n",
       "      <td>...</td>\n",
       "      <td>...</td>\n",
       "      <td>...</td>\n",
       "      <td>...</td>\n",
       "    </tr>\n",
       "    <tr>\n",
       "      <th>49995</th>\n",
       "      <td>NaN</td>\n",
       "      <td>None within 50 metres</td>\n",
       "      <td>non-junction pedestrian crossing</td>\n",
       "      <td>Daylight: Street light present</td>\n",
       "      <td>Fine without high winds</td>\n",
       "      <td>Dry</td>\n",
       "      <td>NaN</td>\n",
       "      <td>NaN</td>\n",
       "      <td>1</td>\n",
       "    </tr>\n",
       "    <tr>\n",
       "      <th>49996</th>\n",
       "      <td>NaN</td>\n",
       "      <td>None within 50 metres</td>\n",
       "      <td>No physical crossing within 50 meters</td>\n",
       "      <td>Daylight: Street light present</td>\n",
       "      <td>Fine without high winds</td>\n",
       "      <td>Dry</td>\n",
       "      <td>NaN</td>\n",
       "      <td>NaN</td>\n",
       "      <td>2</td>\n",
       "    </tr>\n",
       "    <tr>\n",
       "      <th>49997</th>\n",
       "      <td>NaN</td>\n",
       "      <td>None within 50 metres</td>\n",
       "      <td>No physical crossing within 50 meters</td>\n",
       "      <td>Daylight: Street light present</td>\n",
       "      <td>Fine without high winds</td>\n",
       "      <td>Dry</td>\n",
       "      <td>NaN</td>\n",
       "      <td>NaN</td>\n",
       "      <td>2</td>\n",
       "    </tr>\n",
       "    <tr>\n",
       "      <th>49998</th>\n",
       "      <td>NaN</td>\n",
       "      <td>None within 50 metres</td>\n",
       "      <td>No physical crossing within 50 meters</td>\n",
       "      <td>Daylight: Street light present</td>\n",
       "      <td>Raining without high winds</td>\n",
       "      <td>Wet/Damp</td>\n",
       "      <td>NaN</td>\n",
       "      <td>NaN</td>\n",
       "      <td>2</td>\n",
       "    </tr>\n",
       "    <tr>\n",
       "      <th>49999</th>\n",
       "      <td>NaN</td>\n",
       "      <td>None within 50 metres</td>\n",
       "      <td>No physical crossing within 50 meters</td>\n",
       "      <td>Daylight: Street light present</td>\n",
       "      <td>Fine without high winds</td>\n",
       "      <td>Dry</td>\n",
       "      <td>NaN</td>\n",
       "      <td>NaN</td>\n",
       "      <td>2</td>\n",
       "    </tr>\n",
       "  </tbody>\n",
       "</table>\n",
       "<p>50000 rows × 9 columns</p>\n",
       "</div>"
      ],
      "text/plain": [
       "       Conditions_ID Pedestrian_Crossing-Human_Control  \\\n",
       "0                NaN             None within 50 metres   \n",
       "1                NaN             None within 50 metres   \n",
       "2                NaN             None within 50 metres   \n",
       "3                NaN             None within 50 metres   \n",
       "4                NaN             None within 50 metres   \n",
       "...              ...                               ...   \n",
       "49995            NaN             None within 50 metres   \n",
       "49996            NaN             None within 50 metres   \n",
       "49997            NaN             None within 50 metres   \n",
       "49998            NaN             None within 50 metres   \n",
       "49999            NaN             None within 50 metres   \n",
       "\n",
       "           Pedestrian_Crossing-Physical_Facilities  \\\n",
       "0                                   Zebra crossing   \n",
       "1      Pedestrian phase at traffic signal junction   \n",
       "2            No physical crossing within 50 meters   \n",
       "3            No physical crossing within 50 meters   \n",
       "4            No physical crossing within 50 meters   \n",
       "...                                            ...   \n",
       "49995             non-junction pedestrian crossing   \n",
       "49996        No physical crossing within 50 meters   \n",
       "49997        No physical crossing within 50 meters   \n",
       "49998        No physical crossing within 50 meters   \n",
       "49999        No physical crossing within 50 meters   \n",
       "\n",
       "                              Light_Conditions          Weather_Conditions  \\\n",
       "0               Daylight: Street light present  Raining without high winds   \n",
       "1      Darkness: Street lights present and lit     Fine without high winds   \n",
       "2      Darkness: Street lights present and lit     Fine without high winds   \n",
       "3               Daylight: Street light present     Fine without high winds   \n",
       "4            Darkness: Street lighting unknown     Fine without high winds   \n",
       "...                                        ...                         ...   \n",
       "49995           Daylight: Street light present     Fine without high winds   \n",
       "49996           Daylight: Street light present     Fine without high winds   \n",
       "49997           Daylight: Street light present     Fine without high winds   \n",
       "49998           Daylight: Street light present  Raining without high winds   \n",
       "49999           Daylight: Street light present     Fine without high winds   \n",
       "\n",
       "      Road_Surface_Conditions Special_Conditions_at_Site Carriageway_Hazards  \\\n",
       "0                    Wet/Damp                        NaN                 NaN   \n",
       "1                         Dry                        NaN                 NaN   \n",
       "2                         Dry                        NaN                 NaN   \n",
       "3                         Dry                        NaN                 NaN   \n",
       "4                    Wet/Damp                        NaN                 NaN   \n",
       "...                       ...                        ...                 ...   \n",
       "49995                     Dry                        NaN                 NaN   \n",
       "49996                     Dry                        NaN                 NaN   \n",
       "49997                     Dry                        NaN                 NaN   \n",
       "49998                Wet/Damp                        NaN                 NaN   \n",
       "49999                     Dry                        NaN                 NaN   \n",
       "\n",
       "       Urban_or_Rural_Area  \n",
       "0                        1  \n",
       "1                        1  \n",
       "2                        1  \n",
       "3                        1  \n",
       "4                        1  \n",
       "...                    ...  \n",
       "49995                    1  \n",
       "49996                    2  \n",
       "49997                    2  \n",
       "49998                    2  \n",
       "49999                    2  \n",
       "\n",
       "[50000 rows x 9 columns]"
      ]
     },
     "execution_count": 3,
     "metadata": {},
     "output_type": "execute_result"
    }
   ],
   "source": [
    "df = pd.read_csv(\"conditions.csv\")\n",
    "df"
   ]
  },
  {
   "cell_type": "code",
   "execution_count": 4,
   "metadata": {},
   "outputs": [],
   "source": [
    "Conditions = df.copy()"
   ]
  },
  {
   "cell_type": "code",
   "execution_count": 5,
   "metadata": {},
   "outputs": [
    {
     "name": "stdout",
     "output_type": "stream",
     "text": [
      "<class 'pandas.core.frame.DataFrame'>\n",
      "RangeIndex: 50000 entries, 0 to 49999\n",
      "Data columns (total 9 columns):\n",
      " #   Column                                   Non-Null Count  Dtype  \n",
      "---  ------                                   --------------  -----  \n",
      " 0   Conditions_ID                            0 non-null      float64\n",
      " 1   Pedestrian_Crossing-Human_Control        49987 non-null  object \n",
      " 2   Pedestrian_Crossing-Physical_Facilities  49991 non-null  object \n",
      " 3   Light_Conditions                         50000 non-null  object \n",
      " 4   Weather_Conditions                       50000 non-null  object \n",
      " 5   Road_Surface_Conditions                  50000 non-null  object \n",
      " 6   Special_Conditions_at_Site               1005 non-null   object \n",
      " 7   Carriageway_Hazards                      633 non-null    object \n",
      " 8   Urban_or_Rural_Area                      50000 non-null  int64  \n",
      "dtypes: float64(1), int64(1), object(7)\n",
      "memory usage: 3.4+ MB\n"
     ]
    }
   ],
   "source": [
    "Conditions.info()"
   ]
  },
  {
   "cell_type": "code",
   "execution_count": 6,
   "metadata": {},
   "outputs": [
    {
     "data": {
      "text/plain": [
       "Conditions_ID                              50000\n",
       "Pedestrian_Crossing-Human_Control             13\n",
       "Pedestrian_Crossing-Physical_Facilities        9\n",
       "Light_Conditions                               0\n",
       "Weather_Conditions                             0\n",
       "Road_Surface_Conditions                        0\n",
       "Special_Conditions_at_Site                 48995\n",
       "Carriageway_Hazards                        49367\n",
       "Urban_or_Rural_Area                            0\n",
       "dtype: int64"
      ]
     },
     "execution_count": 6,
     "metadata": {},
     "output_type": "execute_result"
    }
   ],
   "source": [
    "Conditions.isna().sum()"
   ]
  },
  {
   "cell_type": "code",
   "execution_count": 7,
   "metadata": {},
   "outputs": [
    {
     "data": {
      "text/plain": [
       "Conditions_ID                              49983\n",
       "Pedestrian_Crossing-Human_Control              0\n",
       "Pedestrian_Crossing-Physical_Facilities        0\n",
       "Light_Conditions                               0\n",
       "Weather_Conditions                             0\n",
       "Road_Surface_Conditions                        0\n",
       "Special_Conditions_at_Site                 48978\n",
       "Carriageway_Hazards                        49350\n",
       "Urban_or_Rural_Area                            0\n",
       "dtype: int64"
      ]
     },
     "execution_count": 7,
     "metadata": {},
     "output_type": "execute_result"
    }
   ],
   "source": [
    "Conditions.dropna(subset=['Pedestrian_Crossing-Human_Control', 'Pedestrian_Crossing-Physical_Facilities'], inplace=True)\n",
    "Conditions.isna().sum()"
   ]
  },
  {
   "cell_type": "code",
   "execution_count": 8,
   "metadata": {},
   "outputs": [
    {
     "name": "stdout",
     "output_type": "stream",
     "text": [
      "<class 'pandas.core.frame.DataFrame'>\n",
      "Index: 49983 entries, 0 to 49999\n",
      "Data columns (total 9 columns):\n",
      " #   Column                                   Non-Null Count  Dtype  \n",
      "---  ------                                   --------------  -----  \n",
      " 0   Conditions_ID                            0 non-null      float64\n",
      " 1   Pedestrian_Crossing-Human_Control        49983 non-null  object \n",
      " 2   Pedestrian_Crossing-Physical_Facilities  49983 non-null  object \n",
      " 3   Light_Conditions                         49983 non-null  object \n",
      " 4   Weather_Conditions                       49983 non-null  object \n",
      " 5   Road_Surface_Conditions                  49983 non-null  object \n",
      " 6   Special_Conditions_at_Site               1005 non-null   object \n",
      " 7   Carriageway_Hazards                      633 non-null    object \n",
      " 8   Urban_or_Rural_Area                      49983 non-null  int64  \n",
      "dtypes: float64(1), int64(1), object(7)\n",
      "memory usage: 3.8+ MB\n"
     ]
    }
   ],
   "source": [
    "Conditions.info()"
   ]
  },
  {
   "cell_type": "code",
   "execution_count": 9,
   "metadata": {},
   "outputs": [
    {
     "data": {
      "text/plain": [
       "array(['None within 50 metres', 'Control by other authorised person',\n",
       "       'Control by school crossing patrol'], dtype=object)"
      ]
     },
     "execution_count": 9,
     "metadata": {},
     "output_type": "execute_result"
    }
   ],
   "source": [
    "Conditions['Pedestrian_Crossing-Human_Control'].unique()"
   ]
  },
  {
   "cell_type": "code",
   "execution_count": 10,
   "metadata": {},
   "outputs": [
    {
     "data": {
      "text/plain": [
       "array(['Zebra crossing', 'Pedestrian phase at traffic signal junction',\n",
       "       'No physical crossing within 50 meters', 'Central refuge',\n",
       "       'non-junction pedestrian crossing', 'Footbridge or subway'],\n",
       "      dtype=object)"
      ]
     },
     "execution_count": 10,
     "metadata": {},
     "output_type": "execute_result"
    }
   ],
   "source": [
    "Conditions[\"Pedestrian_Crossing-Physical_Facilities\"].unique()"
   ]
  },
  {
   "cell_type": "code",
   "execution_count": 11,
   "metadata": {},
   "outputs": [
    {
     "data": {
      "text/plain": [
       "array(['Daylight: Street light present',\n",
       "       'Darkness: Street lights present and lit',\n",
       "       'Darkness: Street lighting unknown',\n",
       "       'Darkness: Street lights present but unlit',\n",
       "       'Darkeness: No street lighting'], dtype=object)"
      ]
     },
     "execution_count": 11,
     "metadata": {},
     "output_type": "execute_result"
    }
   ],
   "source": [
    "Conditions['Light_Conditions'].unique()"
   ]
  },
  {
   "cell_type": "code",
   "execution_count": 12,
   "metadata": {},
   "outputs": [
    {
     "data": {
      "text/plain": [
       "array(['Raining without high winds', 'Fine without high winds', 'Unknown',\n",
       "       'Snowing without high winds', 'Other', 'Fine with high winds',\n",
       "       'Raining with high winds', 'Fog or mist',\n",
       "       'Snowing with high winds'], dtype=object)"
      ]
     },
     "execution_count": 12,
     "metadata": {},
     "output_type": "execute_result"
    }
   ],
   "source": [
    "Conditions['Weather_Conditions'].unique()"
   ]
  },
  {
   "cell_type": "code",
   "execution_count": 13,
   "metadata": {},
   "outputs": [],
   "source": [
    "Conditions.to_csv('new_conditions_file.csv', index=False)\n"
   ]
  },
  {
   "cell_type": "code",
   "execution_count": null,
   "metadata": {},
   "outputs": [],
   "source": []
  }
 ],
 "metadata": {
  "kernelspec": {
   "display_name": "Python 3",
   "language": "python",
   "name": "python3"
  },
  "language_info": {
   "codemirror_mode": {
    "name": "ipython",
    "version": 3
   },
   "file_extension": ".py",
   "mimetype": "text/x-python",
   "name": "python",
   "nbconvert_exporter": "python",
   "pygments_lexer": "ipython3",
   "version": "3.12.4"
  }
 },
 "nbformat": 4,
 "nbformat_minor": 2
}
